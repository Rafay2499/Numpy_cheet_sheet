{
 "cells": [
  {
   "cell_type": "code",
   "execution_count": 315,
   "id": "c64ce35b",
   "metadata": {},
   "outputs": [],
   "source": [
    "# we have a data. in how many combination  i can write my data is known as data dimension"
   ]
  },
  {
   "cell_type": "code",
   "execution_count": 316,
   "id": "68ca5936",
   "metadata": {},
   "outputs": [],
   "source": [
    "## Arrangement of data in known as Array"
   ]
  },
  {
   "cell_type": "code",
   "execution_count": 317,
   "id": "da551617",
   "metadata": {},
   "outputs": [],
   "source": [
    "## when the no of dimension is more than one we write nd Array"
   ]
  },
  {
   "cell_type": "code",
   "execution_count": 318,
   "id": "36c84613",
   "metadata": {},
   "outputs": [],
   "source": [
    "\n",
    "\n",
    "import numpy as np\n"
   ]
  },
  {
   "cell_type": "code",
   "execution_count": 319,
   "id": "da69db1e",
   "metadata": {},
   "outputs": [],
   "source": [
    "#creatin 1d array\n",
    "# 1d array is also called vector\n",
    "a1d= np.array([1,2,3,4])"
   ]
  },
  {
   "cell_type": "code",
   "execution_count": 320,
   "id": "476fd828",
   "metadata": {},
   "outputs": [
    {
     "data": {
      "text/plain": [
       "array([1, 2, 3, 4])"
      ]
     },
     "execution_count": 320,
     "metadata": {},
     "output_type": "execute_result"
    }
   ],
   "source": [
    "a1d\n"
   ]
  },
  {
   "cell_type": "code",
   "execution_count": 321,
   "id": "18e59bdd",
   "metadata": {},
   "outputs": [
    {
     "data": {
      "text/plain": [
       "numpy.ndarray"
      ]
     },
     "execution_count": 321,
     "metadata": {},
     "output_type": "execute_result"
    }
   ],
   "source": [
    "type(a1d)"
   ]
  },
  {
   "cell_type": "code",
   "execution_count": 322,
   "id": "2354ab42",
   "metadata": {},
   "outputs": [],
   "source": [
    "#creating 2d array\n",
    "# 2d array is also known as Matrix\n",
    "a2d= np.array([[1,2,3,4],[4,5,6,7]])\n"
   ]
  },
  {
   "cell_type": "code",
   "execution_count": 323,
   "id": "da0dba1d",
   "metadata": {},
   "outputs": [
    {
     "data": {
      "text/plain": [
       "array([[1, 2, 3, 4],\n",
       "       [4, 5, 6, 7]])"
      ]
     },
     "execution_count": 323,
     "metadata": {},
     "output_type": "execute_result"
    }
   ],
   "source": [
    "a2d"
   ]
  },
  {
   "cell_type": "code",
   "execution_count": 324,
   "id": "a1af8a94",
   "metadata": {},
   "outputs": [],
   "source": [
    "# creating 3d array\n",
    "# by combing 2d arrays we will have a 3d array\n",
    "a3d= np.array([[[1,2,3,4],[4,5,6,7],[34,56,7,8]],[[1,2,3,4],[4,5,6,7],[34,56,7,8]]])\n"
   ]
  },
  {
   "cell_type": "code",
   "execution_count": 325,
   "id": "fb4df4d0",
   "metadata": {},
   "outputs": [
    {
     "data": {
      "text/plain": [
       "array([[[ 1,  2,  3,  4],\n",
       "        [ 4,  5,  6,  7],\n",
       "        [34, 56,  7,  8]],\n",
       "\n",
       "       [[ 1,  2,  3,  4],\n",
       "        [ 4,  5,  6,  7],\n",
       "        [34, 56,  7,  8]]])"
      ]
     },
     "execution_count": 325,
     "metadata": {},
     "output_type": "execute_result"
    }
   ],
   "source": [
    "a3d"
   ]
  },
  {
   "cell_type": "markdown",
   "id": "fe79488a",
   "metadata": {},
   "source": [
    "# shape of Array  "
   ]
  },
  {
   "cell_type": "code",
   "execution_count": 326,
   "id": "db59efd5",
   "metadata": {},
   "outputs": [
    {
     "data": {
      "text/plain": [
       "(4,)"
      ]
     },
     "execution_count": 326,
     "metadata": {},
     "output_type": "execute_result"
    }
   ],
   "source": [
    "# if we want shape of matrix\n",
    "# to see dimension we call shape\n",
    "a1d.shape"
   ]
  },
  {
   "cell_type": "code",
   "execution_count": 327,
   "id": "09353998",
   "metadata": {},
   "outputs": [
    {
     "data": {
      "text/plain": [
       "(2, 4)"
      ]
     },
     "execution_count": 327,
     "metadata": {},
     "output_type": "execute_result"
    }
   ],
   "source": [
    "a2d.shape"
   ]
  },
  {
   "cell_type": "code",
   "execution_count": 328,
   "id": "28abf908",
   "metadata": {},
   "outputs": [
    {
     "data": {
      "text/plain": [
       "(2, 3, 4)"
      ]
     },
     "execution_count": 328,
     "metadata": {},
     "output_type": "execute_result"
    }
   ],
   "source": [
    "## 4 means it has 4 elements in it.\n",
    "## 3 means These 4 elments are in 3 dimesnion\n",
    "## 2 means that we have 2 arryas of 3*4\n",
    "\n",
    "a3d.shape"
   ]
  },
  {
   "cell_type": "code",
   "execution_count": 329,
   "id": "193ab3ce",
   "metadata": {},
   "outputs": [],
   "source": [
    "# shape basicalyy works good on matrics it does not work good on vector"
   ]
  },
  {
   "cell_type": "markdown",
   "id": "85f62d63",
   "metadata": {},
   "source": [
    "#  Importing function on array"
   ]
  },
  {
   "cell_type": "code",
   "execution_count": 330,
   "id": "f442ad7a",
   "metadata": {},
   "outputs": [],
   "source": [
    "# .array is used to create array it take parenthesis to create an array\n",
    "# to make a 2d array the arrays should be added in a single parenthesis []"
   ]
  },
  {
   "cell_type": "code",
   "execution_count": 331,
   "id": "ca69c253",
   "metadata": {},
   "outputs": [],
   "source": [
    "# Attributes of array"
   ]
  },
  {
   "cell_type": "code",
   "execution_count": 332,
   "id": "c8170786",
   "metadata": {},
   "outputs": [
    {
     "data": {
      "text/plain": [
       "3"
      ]
     },
     "execution_count": 332,
     "metadata": {},
     "output_type": "execute_result"
    }
   ],
   "source": [
    "# ndim teels us the dimension of array\n",
    "a3d.ndim"
   ]
  },
  {
   "cell_type": "code",
   "execution_count": 333,
   "id": "e3cf4717",
   "metadata": {},
   "outputs": [
    {
     "data": {
      "text/plain": [
       "dtype('int32')"
      ]
     },
     "execution_count": 333,
     "metadata": {},
     "output_type": "execute_result"
    }
   ],
   "source": [
    "a3d.dtype"
   ]
  },
  {
   "cell_type": "code",
   "execution_count": 334,
   "id": "8164cfad",
   "metadata": {},
   "outputs": [],
   "source": [
    "## preference of float is more than int\n",
    "## if we have one float values in array it will convert type in to float"
   ]
  },
  {
   "cell_type": "code",
   "execution_count": 335,
   "id": "1a8a0c15",
   "metadata": {},
   "outputs": [
    {
     "data": {
      "text/plain": [
       "24"
      ]
     },
     "execution_count": 335,
     "metadata": {},
     "output_type": "execute_result"
    }
   ],
   "source": [
    "a3d.size"
   ]
  },
  {
   "cell_type": "code",
   "execution_count": 336,
   "id": "0b9af7cf",
   "metadata": {},
   "outputs": [
    {
     "data": {
      "text/plain": [
       "numpy.ndarray"
      ]
     },
     "execution_count": 336,
     "metadata": {},
     "output_type": "execute_result"
    }
   ],
   "source": [
    "#it is another attribute\n",
    "type(a3d)"
   ]
  },
  {
   "cell_type": "code",
   "execution_count": 337,
   "id": "34fee704",
   "metadata": {},
   "outputs": [],
   "source": [
    "## numpy is the base of pandas"
   ]
  },
  {
   "cell_type": "code",
   "execution_count": 338,
   "id": "589dc55f",
   "metadata": {},
   "outputs": [],
   "source": [
    "import pandas as pd\n"
   ]
  },
  {
   "cell_type": "code",
   "execution_count": 339,
   "id": "c326b1db",
   "metadata": {},
   "outputs": [],
   "source": [
    "## using DataFrame convert the array into DataFrame\n",
    "df= pd.DataFrame(a2d)"
   ]
  },
  {
   "cell_type": "code",
   "execution_count": 340,
   "id": "964c3fb5",
   "metadata": {},
   "outputs": [
    {
     "data": {
      "text/html": [
       "<div>\n",
       "<style scoped>\n",
       "    .dataframe tbody tr th:only-of-type {\n",
       "        vertical-align: middle;\n",
       "    }\n",
       "\n",
       "    .dataframe tbody tr th {\n",
       "        vertical-align: top;\n",
       "    }\n",
       "\n",
       "    .dataframe thead th {\n",
       "        text-align: right;\n",
       "    }\n",
       "</style>\n",
       "<table border=\"1\" class=\"dataframe\">\n",
       "  <thead>\n",
       "    <tr style=\"text-align: right;\">\n",
       "      <th></th>\n",
       "      <th>0</th>\n",
       "      <th>1</th>\n",
       "      <th>2</th>\n",
       "      <th>3</th>\n",
       "    </tr>\n",
       "  </thead>\n",
       "  <tbody>\n",
       "    <tr>\n",
       "      <th>0</th>\n",
       "      <td>1</td>\n",
       "      <td>2</td>\n",
       "      <td>3</td>\n",
       "      <td>4</td>\n",
       "    </tr>\n",
       "    <tr>\n",
       "      <th>1</th>\n",
       "      <td>4</td>\n",
       "      <td>5</td>\n",
       "      <td>6</td>\n",
       "      <td>7</td>\n",
       "    </tr>\n",
       "  </tbody>\n",
       "</table>\n",
       "</div>"
      ],
      "text/plain": [
       "   0  1  2  3\n",
       "0  1  2  3  4\n",
       "1  4  5  6  7"
      ]
     },
     "execution_count": 340,
     "metadata": {},
     "output_type": "execute_result"
    }
   ],
   "source": [
    "df"
   ]
  },
  {
   "cell_type": "markdown",
   "id": "b9e2af73",
   "metadata": {},
   "source": [
    "# Creating Numpy Array"
   ]
  },
  {
   "cell_type": "code",
   "execution_count": 341,
   "id": "7202020c",
   "metadata": {},
   "outputs": [],
   "source": [
    "test_array  = np.array([1,2,3,4])\n"
   ]
  },
  {
   "cell_type": "code",
   "execution_count": 342,
   "id": "d8f9c008",
   "metadata": {},
   "outputs": [
    {
     "data": {
      "text/plain": [
       "array([1, 2, 3, 4])"
      ]
     },
     "execution_count": 342,
     "metadata": {},
     "output_type": "execute_result"
    }
   ],
   "source": [
    "test_array"
   ]
  },
  {
   "cell_type": "code",
   "execution_count": 343,
   "id": "6e98ef62",
   "metadata": {},
   "outputs": [],
   "source": [
    "## 3 methods to create array automatically\n",
    "# all the numbers will be 1\n",
    "# all the numbers will be 0\n",
    "# all the numbers will be random\n"
   ]
  },
  {
   "cell_type": "code",
   "execution_count": 344,
   "id": "a8a2b56d",
   "metadata": {},
   "outputs": [],
   "source": [
    "#ones\n",
    "#we are getting the result in float\n",
    "ones= np.ones((2,3))"
   ]
  },
  {
   "cell_type": "code",
   "execution_count": 345,
   "id": "9e9cf6c1",
   "metadata": {},
   "outputs": [
    {
     "data": {
      "text/plain": [
       "array([[1., 1., 1.],\n",
       "       [1., 1., 1.]])"
      ]
     },
     "execution_count": 345,
     "metadata": {},
     "output_type": "execute_result"
    }
   ],
   "source": [
    "ones"
   ]
  },
  {
   "cell_type": "code",
   "execution_count": 346,
   "id": "98a4fb44",
   "metadata": {},
   "outputs": [
    {
     "data": {
      "text/plain": [
       "numpy.ndarray"
      ]
     },
     "execution_count": 346,
     "metadata": {},
     "output_type": "execute_result"
    }
   ],
   "source": [
    "type(ones)"
   ]
  },
  {
   "cell_type": "code",
   "execution_count": 347,
   "id": "da3682e3",
   "metadata": {},
   "outputs": [],
   "source": [
    "zeros= np.zeros((2,3))"
   ]
  },
  {
   "cell_type": "code",
   "execution_count": 348,
   "id": "b7bc2071",
   "metadata": {},
   "outputs": [
    {
     "data": {
      "text/plain": [
       "array([[0., 0., 0.],\n",
       "       [0., 0., 0.]])"
      ]
     },
     "execution_count": 348,
     "metadata": {},
     "output_type": "execute_result"
    }
   ],
   "source": [
    "zeros"
   ]
  },
  {
   "cell_type": "code",
   "execution_count": 349,
   "id": "3d911e43",
   "metadata": {},
   "outputs": [],
   "source": [
    "## sometimes we need to create arrays of zeros and ones"
   ]
  },
  {
   "cell_type": "code",
   "execution_count": 350,
   "id": "a2800b06",
   "metadata": {},
   "outputs": [],
   "source": [
    "## start ,stop, step ( same as range)"
   ]
  },
  {
   "cell_type": "code",
   "execution_count": 351,
   "id": "654bf670",
   "metadata": {},
   "outputs": [],
   "source": [
    "arange_array = np.arange(0,10,2)"
   ]
  },
  {
   "cell_type": "code",
   "execution_count": 352,
   "id": "fdc0d9f3",
   "metadata": {},
   "outputs": [
    {
     "data": {
      "text/plain": [
       "array([0, 2, 4, 6, 8])"
      ]
     },
     "execution_count": 352,
     "metadata": {},
     "output_type": "execute_result"
    }
   ],
   "source": [
    "arange_array"
   ]
  },
  {
   "cell_type": "raw",
   "id": "6c728e7d",
   "metadata": {},
   "source": [
    "arange_array\n",
    "## vector is created"
   ]
  },
  {
   "cell_type": "code",
   "execution_count": 353,
   "id": "955001b2",
   "metadata": {},
   "outputs": [],
   "source": [
    " ## to create random array we will use np.ranodm.randint\n",
    "random_matrix = np.random.randint(0,10,size=(2,3))"
   ]
  },
  {
   "cell_type": "code",
   "execution_count": 354,
   "id": "47e47b88",
   "metadata": {},
   "outputs": [
    {
     "data": {
      "text/plain": [
       "array([[4, 3, 0],\n",
       "       [3, 5, 0]])"
      ]
     },
     "execution_count": 354,
     "metadata": {},
     "output_type": "execute_result"
    }
   ],
   "source": [
    "random_matrix"
   ]
  },
  {
   "cell_type": "code",
   "execution_count": 355,
   "id": "9ef8aef2",
   "metadata": {},
   "outputs": [],
   "source": [
    "# we can create it by using a simple function np.random.rand\n",
    "## auto range set(0,1)\n",
    "rand_matrix = np.random.rand(3,5)"
   ]
  },
  {
   "cell_type": "code",
   "execution_count": 356,
   "id": "e8d60ecb",
   "metadata": {},
   "outputs": [
    {
     "data": {
      "text/plain": [
       "array([[0.97861834, 0.79915856, 0.46147936, 0.78052918, 0.11827443],\n",
       "       [0.63992102, 0.14335329, 0.94466892, 0.52184832, 0.41466194],\n",
       "       [0.26455561, 0.77423369, 0.45615033, 0.56843395, 0.0187898 ]])"
      ]
     },
     "execution_count": 356,
     "metadata": {},
     "output_type": "execute_result"
    }
   ],
   "source": [
    "rand_matrix"
   ]
  },
  {
   "cell_type": "code",
   "execution_count": 357,
   "id": "b68d7bf9",
   "metadata": {},
   "outputs": [
    {
     "data": {
      "text/plain": [
       "7.884676741444953"
      ]
     },
     "execution_count": 357,
     "metadata": {},
     "output_type": "execute_result"
    }
   ],
   "source": [
    "rand_matrix.sum()"
   ]
  },
  {
   "cell_type": "markdown",
   "id": "1669f036",
   "metadata": {},
   "source": [
    "# Random Seed"
   ]
  },
  {
   "cell_type": "code",
   "execution_count": 358,
   "id": "1c39ed5b",
   "metadata": {},
   "outputs": [],
   "source": [
    "#result should be reproducable\n",
    "# seed is given parameter"
   ]
  },
  {
   "cell_type": "code",
   "execution_count": 359,
   "id": "d1558259",
   "metadata": {},
   "outputs": [],
   "source": [
    "np.random.seed(0)\n",
    "rand_matrix = np.random.rand(3,5)"
   ]
  },
  {
   "cell_type": "code",
   "execution_count": 360,
   "id": "3106f7a3",
   "metadata": {},
   "outputs": [
    {
     "data": {
      "text/plain": [
       "array([[0.5488135 , 0.71518937, 0.60276338, 0.54488318, 0.4236548 ],\n",
       "       [0.64589411, 0.43758721, 0.891773  , 0.96366276, 0.38344152],\n",
       "       [0.79172504, 0.52889492, 0.56804456, 0.92559664, 0.07103606]])"
      ]
     },
     "execution_count": 360,
     "metadata": {},
     "output_type": "execute_result"
    }
   ],
   "source": [
    "rand_matrix"
   ]
  },
  {
   "cell_type": "markdown",
   "id": "5eb200bd",
   "metadata": {},
   "source": [
    "# Acessing Elements"
   ]
  },
  {
   "cell_type": "code",
   "execution_count": 361,
   "id": "9237e203",
   "metadata": {},
   "outputs": [
    {
     "data": {
      "text/plain": [
       "array([[[ 1,  2,  3,  4],\n",
       "        [ 4,  5,  6,  7],\n",
       "        [34, 56,  7,  8]],\n",
       "\n",
       "       [[ 1,  2,  3,  4],\n",
       "        [ 4,  5,  6,  7],\n",
       "        [34, 56,  7,  8]]])"
      ]
     },
     "execution_count": 361,
     "metadata": {},
     "output_type": "execute_result"
    }
   ],
   "source": [
    "a3d"
   ]
  },
  {
   "cell_type": "code",
   "execution_count": 362,
   "id": "cc3cf0df",
   "metadata": {},
   "outputs": [
    {
     "data": {
      "text/plain": [
       "array([[1, 2, 3, 4],\n",
       "       [4, 5, 6, 7]])"
      ]
     },
     "execution_count": 362,
     "metadata": {},
     "output_type": "execute_result"
    }
   ],
   "source": [
    "a2d"
   ]
  },
  {
   "cell_type": "code",
   "execution_count": 363,
   "id": "1f9309aa",
   "metadata": {},
   "outputs": [],
   "source": [
    "#by indexing we can acces matrix"
   ]
  },
  {
   "cell_type": "code",
   "execution_count": 364,
   "id": "0a659715",
   "metadata": {},
   "outputs": [
    {
     "data": {
      "text/plain": [
       "array([1, 2, 3, 4])"
      ]
     },
     "execution_count": 364,
     "metadata": {},
     "output_type": "execute_result"
    }
   ],
   "source": [
    "a2d[0] # a of o"
   ]
  },
  {
   "cell_type": "code",
   "execution_count": 365,
   "id": "0c6e17d6",
   "metadata": {},
   "outputs": [
    {
     "data": {
      "text/plain": [
       "array([4, 5, 6, 7])"
      ]
     },
     "execution_count": 365,
     "metadata": {},
     "output_type": "execute_result"
    }
   ],
   "source": [
    "a2d[1] # a of 1"
   ]
  },
  {
   "cell_type": "code",
   "execution_count": 366,
   "id": "7711bf58",
   "metadata": {},
   "outputs": [
    {
     "data": {
      "text/plain": [
       "array([[[ 1,  2,  3,  4],\n",
       "        [ 4,  5,  6,  7],\n",
       "        [34, 56,  7,  8]],\n",
       "\n",
       "       [[ 1,  2,  3,  4],\n",
       "        [ 4,  5,  6,  7],\n",
       "        [34, 56,  7,  8]]])"
      ]
     },
     "execution_count": 366,
     "metadata": {},
     "output_type": "execute_result"
    }
   ],
   "source": [
    "a3d"
   ]
  },
  {
   "cell_type": "code",
   "execution_count": 367,
   "id": "d639b09d",
   "metadata": {},
   "outputs": [
    {
     "data": {
      "text/plain": [
       "array([[ 1,  2,  3,  4],\n",
       "       [ 4,  5,  6,  7],\n",
       "       [34, 56,  7,  8]])"
      ]
     },
     "execution_count": 367,
     "metadata": {},
     "output_type": "execute_result"
    }
   ],
   "source": [
    "a3d[0] # on zero index in 3d matrix"
   ]
  },
  {
   "cell_type": "code",
   "execution_count": 368,
   "id": "831e5512",
   "metadata": {},
   "outputs": [
    {
     "data": {
      "text/plain": [
       "array([[ 1,  2,  3,  4],\n",
       "       [ 4,  5,  6,  7],\n",
       "       [34, 56,  7,  8]])"
      ]
     },
     "execution_count": 368,
     "metadata": {},
     "output_type": "execute_result"
    }
   ],
   "source": [
    "a3d[1] "
   ]
  },
  {
   "cell_type": "markdown",
   "id": "944b4095",
   "metadata": {},
   "source": [
    "#  slicing matrix"
   ]
  },
  {
   "cell_type": "code",
   "execution_count": 369,
   "id": "3bcb795b",
   "metadata": {},
   "outputs": [
    {
     "data": {
      "text/plain": [
       "array([[[1, 2, 3, 4]],\n",
       "\n",
       "       [[1, 2, 3, 4]]])"
      ]
     },
     "execution_count": 369,
     "metadata": {},
     "output_type": "execute_result"
    }
   ],
   "source": [
    "a3d[:2,:1] #slicing matrix "
   ]
  },
  {
   "cell_type": "code",
   "execution_count": 370,
   "id": "60dd920a",
   "metadata": {},
   "outputs": [],
   "source": [
    "np.random.seed(0)\n",
    "random= np.random.randint(10,size =(2,3,4,5))"
   ]
  },
  {
   "cell_type": "code",
   "execution_count": 371,
   "id": "c6bc9f4c",
   "metadata": {},
   "outputs": [
    {
     "data": {
      "text/plain": [
       "array([[[[5, 0, 3, 3, 7],\n",
       "         [9, 3, 5, 2, 4],\n",
       "         [7, 6, 8, 8, 1],\n",
       "         [6, 7, 7, 8, 1]],\n",
       "\n",
       "        [[5, 9, 8, 9, 4],\n",
       "         [3, 0, 3, 5, 0],\n",
       "         [2, 3, 8, 1, 3],\n",
       "         [3, 3, 7, 0, 1]],\n",
       "\n",
       "        [[9, 9, 0, 4, 7],\n",
       "         [3, 2, 7, 2, 0],\n",
       "         [0, 4, 5, 5, 6],\n",
       "         [8, 4, 1, 4, 9]]],\n",
       "\n",
       "\n",
       "       [[[8, 1, 1, 7, 9],\n",
       "         [9, 3, 6, 7, 2],\n",
       "         [0, 3, 5, 9, 4],\n",
       "         [4, 6, 4, 4, 3]],\n",
       "\n",
       "        [[4, 4, 8, 4, 3],\n",
       "         [7, 5, 5, 0, 1],\n",
       "         [5, 9, 3, 0, 5],\n",
       "         [0, 1, 2, 4, 2]],\n",
       "\n",
       "        [[0, 3, 2, 0, 7],\n",
       "         [5, 9, 0, 2, 7],\n",
       "         [2, 9, 2, 3, 3],\n",
       "         [2, 3, 4, 1, 2]]]])"
      ]
     },
     "execution_count": 371,
     "metadata": {},
     "output_type": "execute_result"
    }
   ],
   "source": [
    "random"
   ]
  },
  {
   "cell_type": "code",
   "execution_count": 372,
   "id": "99feb977",
   "metadata": {},
   "outputs": [
    {
     "data": {
      "text/plain": [
       "(2, 3, 4, 5)"
      ]
     },
     "execution_count": 372,
     "metadata": {},
     "output_type": "execute_result"
    }
   ],
   "source": [
    "random.shape"
   ]
  },
  {
   "cell_type": "code",
   "execution_count": 373,
   "id": "3fbd79b0",
   "metadata": {},
   "outputs": [
    {
     "data": {
      "text/plain": [
       "array([[[[5]]]])"
      ]
     },
     "execution_count": 373,
     "metadata": {},
     "output_type": "execute_result"
    }
   ],
   "source": [
    "random[:1,:1,:1,:1]"
   ]
  },
  {
   "cell_type": "markdown",
   "id": "0a7a75f2",
   "metadata": {},
   "source": [
    "# Array manupilation"
   ]
  },
  {
   "cell_type": "code",
   "execution_count": 374,
   "id": "ac964937",
   "metadata": {},
   "outputs": [
    {
     "data": {
      "text/plain": [
       "array([1, 2, 3, 4])"
      ]
     },
     "execution_count": 374,
     "metadata": {},
     "output_type": "execute_result"
    }
   ],
   "source": [
    "a1d"
   ]
  },
  {
   "cell_type": "code",
   "execution_count": 375,
   "id": "8a9c9f81",
   "metadata": {},
   "outputs": [
    {
     "data": {
      "text/plain": [
       "array([[1, 2, 3, 4],\n",
       "       [4, 5, 6, 7]])"
      ]
     },
     "execution_count": 375,
     "metadata": {},
     "output_type": "execute_result"
    }
   ],
   "source": [
    "a2d"
   ]
  },
  {
   "cell_type": "code",
   "execution_count": 376,
   "id": "2333a12d",
   "metadata": {},
   "outputs": [
    {
     "data": {
      "text/plain": [
       "array([[ 2,  4,  6,  8],\n",
       "       [ 5,  7,  9, 11]])"
      ]
     },
     "execution_count": 376,
     "metadata": {},
     "output_type": "execute_result"
    }
   ],
   "source": [
    "a1d + a2d"
   ]
  },
  {
   "cell_type": "code",
   "execution_count": 377,
   "id": "3d121b11",
   "metadata": {},
   "outputs": [],
   "source": [
    "## mapping and broadcasting\n",
    "# it will take first element and add it with first elment of other matrix it is called broadcasting"
   ]
  },
  {
   "cell_type": "code",
   "execution_count": 378,
   "id": "ff203c3b",
   "metadata": {},
   "outputs": [
    {
     "data": {
      "text/plain": [
       "array([[ 0,  0,  0,  0],\n",
       "       [-3, -3, -3, -3]])"
      ]
     },
     "execution_count": 378,
     "metadata": {},
     "output_type": "execute_result"
    }
   ],
   "source": [
    "a1d - a2d"
   ]
  },
  {
   "cell_type": "code",
   "execution_count": 379,
   "id": "ffa3d51a",
   "metadata": {},
   "outputs": [
    {
     "data": {
      "text/plain": [
       "array([[ 0,  0,  0,  0],\n",
       "       [-3, -3, -3, -3]])"
      ]
     },
     "execution_count": 379,
     "metadata": {},
     "output_type": "execute_result"
    }
   ],
   "source": [
    "a1d - a2d"
   ]
  },
  {
   "cell_type": "code",
   "execution_count": 380,
   "id": "7ee22f6a",
   "metadata": {},
   "outputs": [],
   "source": [
    "# we will have an erro by multiplying a2d * a3d\n",
    "# we can resolve this by indexing"
   ]
  },
  {
   "cell_type": "code",
   "execution_count": 381,
   "id": "b3b07e53",
   "metadata": {},
   "outputs": [
    {
     "data": {
      "text/plain": [
       "array([[[ 1,  2,  3,  4],\n",
       "        [ 4,  5,  6,  7],\n",
       "        [34, 56,  7,  8]],\n",
       "\n",
       "       [[ 1,  2,  3,  4],\n",
       "        [ 4,  5,  6,  7],\n",
       "        [34, 56,  7,  8]]])"
      ]
     },
     "execution_count": 381,
     "metadata": {},
     "output_type": "execute_result"
    }
   ],
   "source": [
    "a3d"
   ]
  },
  {
   "cell_type": "code",
   "execution_count": 382,
   "id": "24bdd8ec",
   "metadata": {},
   "outputs": [],
   "source": [
    "t=a3d[:2,:2:3]"
   ]
  },
  {
   "cell_type": "code",
   "execution_count": 383,
   "id": "7c000119",
   "metadata": {},
   "outputs": [
    {
     "data": {
      "text/plain": [
       "array([[[ 1,  4,  9, 16],\n",
       "        [ 4, 10, 18, 28]],\n",
       "\n",
       "       [[ 1,  4,  9, 16],\n",
       "        [ 4, 10, 18, 28]]])"
      ]
     },
     "execution_count": 383,
     "metadata": {},
     "output_type": "execute_result"
    }
   ],
   "source": [
    "a2d*t"
   ]
  },
  {
   "cell_type": "code",
   "execution_count": 384,
   "id": "b72b7c15",
   "metadata": {},
   "outputs": [],
   "source": [
    "## we can do adding, multooplication by using np.function"
   ]
  },
  {
   "cell_type": "code",
   "execution_count": 385,
   "id": "02856881",
   "metadata": {},
   "outputs": [
    {
     "data": {
      "text/plain": [
       "array([[ 2,  4,  6,  8],\n",
       "       [ 5,  7,  9, 11]])"
      ]
     },
     "execution_count": 385,
     "metadata": {},
     "output_type": "execute_result"
    }
   ],
   "source": [
    "np.add(a1d,a2d)"
   ]
  },
  {
   "cell_type": "code",
   "execution_count": 386,
   "id": "2e0b4124",
   "metadata": {},
   "outputs": [
    {
     "data": {
      "text/plain": [
       "array([[1, 0, 1, 0],\n",
       "       [0, 1, 0, 1]], dtype=int32)"
      ]
     },
     "execution_count": 386,
     "metadata": {},
     "output_type": "execute_result"
    }
   ],
   "source": [
    "# taking mode\n",
    "a2d%2"
   ]
  },
  {
   "cell_type": "markdown",
   "id": "524ae3bf",
   "metadata": {},
   "source": [
    "# Aggregation"
   ]
  },
  {
   "cell_type": "code",
   "execution_count": 387,
   "id": "69e6c14b",
   "metadata": {},
   "outputs": [],
   "source": [
    "# taking sum of large value is known as aggregation"
   ]
  },
  {
   "cell_type": "code",
   "execution_count": 388,
   "id": "b47f1ed4",
   "metadata": {},
   "outputs": [
    {
     "data": {
      "text/plain": [
       "array([1, 2, 3, 4])"
      ]
     },
     "execution_count": 388,
     "metadata": {},
     "output_type": "execute_result"
    }
   ],
   "source": [
    "a1d"
   ]
  },
  {
   "cell_type": "code",
   "execution_count": 389,
   "id": "da65d463",
   "metadata": {},
   "outputs": [
    {
     "data": {
      "text/plain": [
       "10"
      ]
     },
     "execution_count": 389,
     "metadata": {},
     "output_type": "execute_result"
    }
   ],
   "source": [
    "sum(a1d)# this is python method.slower"
   ]
  },
  {
   "cell_type": "code",
   "execution_count": 390,
   "id": "1a10bf1d",
   "metadata": {},
   "outputs": [
    {
     "data": {
      "text/plain": [
       "10"
      ]
     },
     "execution_count": 390,
     "metadata": {},
     "output_type": "execute_result"
    }
   ],
   "source": [
    "np.sum(a1d)#np mehtod. faster"
   ]
  },
  {
   "cell_type": "code",
   "execution_count": 391,
   "id": "d9bfa338",
   "metadata": {},
   "outputs": [],
   "source": [
    "lambi_array = np.random.random(10000)"
   ]
  },
  {
   "cell_type": "code",
   "execution_count": 392,
   "id": "025a3cd8",
   "metadata": {},
   "outputs": [
    {
     "data": {
      "text/plain": [
       "array([0.52324805, 0.09394051, 0.5759465 , ..., 0.30208805, 0.92197634,\n",
       "       0.19853412])"
      ]
     },
     "execution_count": 392,
     "metadata": {},
     "output_type": "execute_result"
    }
   ],
   "source": [
    "lambi_array"
   ]
  },
  {
   "cell_type": "code",
   "execution_count": 393,
   "id": "b429c18c",
   "metadata": {},
   "outputs": [
    {
     "data": {
      "text/plain": [
       "10000"
      ]
     },
     "execution_count": 393,
     "metadata": {},
     "output_type": "execute_result"
    }
   ],
   "source": [
    "lambi_array.size"
   ]
  },
  {
   "cell_type": "code",
   "execution_count": 394,
   "id": "02ba1466",
   "metadata": {},
   "outputs": [
    {
     "data": {
      "text/plain": [
       "array([0.52324805, 0.09394051, 0.5759465 , 0.9292962 , 0.31856895,\n",
       "       0.66741038, 0.13179786, 0.7163272 , 0.28940609, 0.18319136,\n",
       "       0.58651293, 0.02010755, 0.82894003, 0.00469548, 0.67781654,\n",
       "       0.27000797, 0.73519402, 0.96218855, 0.24875314, 0.57615733])"
      ]
     },
     "execution_count": 394,
     "metadata": {},
     "output_type": "execute_result"
    }
   ],
   "source": [
    "lambi_array[:20]"
   ]
  },
  {
   "cell_type": "code",
   "execution_count": 395,
   "id": "44137518",
   "metadata": {},
   "outputs": [],
   "source": [
    "# calulating the time of addition\n"
   ]
  },
  {
   "cell_type": "code",
   "execution_count": 396,
   "id": "61344c35",
   "metadata": {},
   "outputs": [
    {
     "name": "stdout",
     "output_type": "stream",
     "text": [
      "1.06 ms ± 48.3 µs per loop (mean ± std. dev. of 7 runs, 1,000 loops each)\n",
      "13.9 µs ± 701 ns per loop (mean ± std. dev. of 7 runs, 100,000 loops each)\n"
     ]
    }
   ],
   "source": [
    "%timeit sum(lambi_array)\n",
    "%timeit np.sum(lambi_array) # 1000 times faster"
   ]
  },
  {
   "cell_type": "code",
   "execution_count": 397,
   "id": "48d80611",
   "metadata": {},
   "outputs": [
    {
     "data": {
      "text/plain": [
       "4"
      ]
     },
     "execution_count": 397,
     "metadata": {},
     "output_type": "execute_result"
    }
   ],
   "source": [
    "np.max(a1d)"
   ]
  },
  {
   "cell_type": "code",
   "execution_count": 398,
   "id": "b33aef33",
   "metadata": {},
   "outputs": [
    {
     "data": {
      "text/plain": [
       "1"
      ]
     },
     "execution_count": 398,
     "metadata": {},
     "output_type": "execute_result"
    }
   ],
   "source": [
    "np.min(a2d)"
   ]
  },
  {
   "cell_type": "markdown",
   "id": "769ceb9b",
   "metadata": {},
   "source": [
    "# Mean Variance  Standard Deviaton"
   ]
  },
  {
   "cell_type": "code",
   "execution_count": 399,
   "id": "e488ba62",
   "metadata": {},
   "outputs": [],
   "source": [
    "# Variance : how away our data is away from mean\n",
    "# Standard Deviation is the square root of Variance"
   ]
  },
  {
   "cell_type": "code",
   "execution_count": 400,
   "id": "9704fea3",
   "metadata": {},
   "outputs": [
    {
     "data": {
      "text/plain": [
       "2.5"
      ]
     },
     "execution_count": 400,
     "metadata": {},
     "output_type": "execute_result"
    }
   ],
   "source": [
    "np.mean(a1d)"
   ]
  },
  {
   "cell_type": "code",
   "execution_count": 401,
   "id": "e4946922",
   "metadata": {},
   "outputs": [
    {
     "data": {
      "text/plain": [
       "1.25"
      ]
     },
     "execution_count": 401,
     "metadata": {},
     "output_type": "execute_result"
    }
   ],
   "source": [
    "np.var(a1d)"
   ]
  },
  {
   "cell_type": "code",
   "execution_count": 402,
   "id": "63631ada",
   "metadata": {},
   "outputs": [
    {
     "data": {
      "text/plain": [
       "1.118033988749895"
      ]
     },
     "execution_count": 402,
     "metadata": {},
     "output_type": "execute_result"
    }
   ],
   "source": [
    "np.std(a1d)"
   ]
  },
  {
   "cell_type": "markdown",
   "id": "3f2721e2",
   "metadata": {},
   "source": [
    "#  Dot Product of Matrix"
   ]
  },
  {
   "cell_type": "code",
   "execution_count": 403,
   "id": "90826817",
   "metadata": {},
   "outputs": [],
   "source": [
    "np.random.seed(0)\n",
    "matrix1 =np.random.randint(10,size=(4,3))\n",
    "matrix2 =np.random.randint(10,size=(4,3))"
   ]
  },
  {
   "cell_type": "code",
   "execution_count": 404,
   "id": "2242c742",
   "metadata": {},
   "outputs": [
    {
     "data": {
      "text/plain": [
       "array([[5, 0, 3],\n",
       "       [3, 7, 9],\n",
       "       [3, 5, 2],\n",
       "       [4, 7, 6]])"
      ]
     },
     "execution_count": 404,
     "metadata": {},
     "output_type": "execute_result"
    }
   ],
   "source": [
    "matrix1"
   ]
  },
  {
   "cell_type": "code",
   "execution_count": 405,
   "id": "995ae65d",
   "metadata": {},
   "outputs": [
    {
     "data": {
      "text/plain": [
       "array([[8, 8, 1],\n",
       "       [6, 7, 7],\n",
       "       [8, 1, 5],\n",
       "       [9, 8, 9]])"
      ]
     },
     "execution_count": 405,
     "metadata": {},
     "output_type": "execute_result"
    }
   ],
   "source": [
    "matrix2"
   ]
  },
  {
   "cell_type": "code",
   "execution_count": 406,
   "id": "7ff6cdf3",
   "metadata": {},
   "outputs": [
    {
     "data": {
      "text/plain": [
       "array([[40,  0,  3],\n",
       "       [18, 49, 63],\n",
       "       [24,  5, 10],\n",
       "       [36, 56, 54]])"
      ]
     },
     "execution_count": 406,
     "metadata": {},
     "output_type": "execute_result"
    }
   ],
   "source": [
    "# Elemnt wise multiplication(multiplied with corresponding elemnt)\n",
    "#(Element wise Multiplication)\n",
    "matrix1 * matrix2"
   ]
  },
  {
   "cell_type": "code",
   "execution_count": 407,
   "id": "0bd5149e",
   "metadata": {},
   "outputs": [],
   "source": [
    "#As a good data scientist we should know the physical meaning of the numbers.\n",
    "#Some Data Scientist think that colourful graph and a lot of fancy arithmatics makes you a data scientise, this is \n",
    "# a misconception"
   ]
  },
  {
   "cell_type": "code",
   "execution_count": 408,
   "id": "ec4fd34e",
   "metadata": {},
   "outputs": [],
   "source": [
    "#Interpretaion matters more than the result.\n",
    "# Interpretaion means that what will you do with that result.\n",
    "# A good data scientist is the one who can get meaning from the result"
   ]
  },
  {
   "cell_type": "code",
   "execution_count": 409,
   "id": "c0401f52",
   "metadata": {},
   "outputs": [],
   "source": [
    "## There is a rule for taking a dot product of the matrix.\n",
    "# the number of col of first matrix  and number of rows of  second matrix must be equal like 3*4 = 4*3"
   ]
  },
  {
   "cell_type": "code",
   "execution_count": 412,
   "id": "e3f4c9e8",
   "metadata": {},
   "outputs": [
    {
     "ename": "ValueError",
     "evalue": "shapes (4,3) and (4,3) not aligned: 3 (dim 1) != 4 (dim 0)",
     "output_type": "error",
     "traceback": [
      "\u001b[1;31m---------------------------------------------------------------------------\u001b[0m",
      "\u001b[1;31mValueError\u001b[0m                                Traceback (most recent call last)",
      "Cell \u001b[1;32mIn[412], line 2\u001b[0m\n\u001b[0;32m      1\u001b[0m \u001b[38;5;66;03m# we are having an error  because the number of col are note equal according to the formaula.\u001b[39;00m\n\u001b[1;32m----> 2\u001b[0m \u001b[43mmatrix1\u001b[49m\u001b[38;5;241;43m.\u001b[39;49m\u001b[43mdot\u001b[49m\u001b[43m(\u001b[49m\u001b[43mmatrix2\u001b[49m\u001b[43m)\u001b[49m\n",
      "\u001b[1;31mValueError\u001b[0m: shapes (4,3) and (4,3) not aligned: 3 (dim 1) != 4 (dim 0)"
     ]
    }
   ],
   "source": [
    "# we are having an error  because the number of col are note equal according to the formaula.\n",
    "matrix1.dot(matrix2)"
   ]
  },
  {
   "cell_type": "code",
   "execution_count": 424,
   "id": "17ac4cca",
   "metadata": {},
   "outputs": [
    {
     "data": {
      "text/plain": [
       "array([[ 43,  51,  55,  72],\n",
       "       [ 89, 130,  76, 164],\n",
       "       [ 66,  67,  39,  85],\n",
       "       [ 94, 115,  69, 146]])"
      ]
     },
     "execution_count": 424,
     "metadata": {},
     "output_type": "execute_result"
    }
   ],
   "source": [
    "# know we took the transpose of the matrix 2 and woala!\n",
    "dot_product=matrix1.dot(matrix2.T)\n",
    "dot_product"
   ]
  },
  {
   "cell_type": "code",
   "execution_count": 426,
   "id": "4cc5a322",
   "metadata": {},
   "outputs": [
    {
     "data": {
      "text/plain": [
       "((4, 3), (3, 4))"
      ]
     },
     "execution_count": 426,
     "metadata": {},
     "output_type": "execute_result"
    }
   ],
   "source": [
    "matrix1.shape, matrix2.T.shape"
   ]
  },
  {
   "cell_type": "markdown",
   "id": "c8c5b19b",
   "metadata": {},
   "source": [
    "# Reshape and Transpose "
   ]
  },
  {
   "cell_type": "code",
   "execution_count": 427,
   "id": "4ab4d97b",
   "metadata": {},
   "outputs": [],
   "source": [
    "#sometimes the dimension does not match.\n",
    "# We have two methods reshape and transpose.\n"
   ]
  },
  {
   "cell_type": "code",
   "execution_count": 449,
   "id": "63c97e35",
   "metadata": {},
   "outputs": [],
   "source": [
    "#Transpose :swap rows to  column.It just change rows into column"
   ]
  },
  {
   "cell_type": "code",
   "execution_count": 446,
   "id": "392336a1",
   "metadata": {},
   "outputs": [
    {
     "data": {
      "text/plain": [
       "array([[1, 2, 3, 4],\n",
       "       [4, 5, 6, 7]])"
      ]
     },
     "execution_count": 446,
     "metadata": {},
     "output_type": "execute_result"
    }
   ],
   "source": [
    "a2d"
   ]
  },
  {
   "cell_type": "code",
   "execution_count": 448,
   "id": "153701ba",
   "metadata": {},
   "outputs": [
    {
     "data": {
      "text/plain": [
       "(2, 4)"
      ]
     },
     "execution_count": 448,
     "metadata": {},
     "output_type": "execute_result"
    }
   ],
   "source": [
    "## shape of a2d.\n",
    "a2d.shape"
   ]
  },
  {
   "cell_type": "code",
   "execution_count": 432,
   "id": "a75f3246",
   "metadata": {},
   "outputs": [
    {
     "data": {
      "text/plain": [
       "array([[1, 4],\n",
       "       [2, 5],\n",
       "       [3, 6],\n",
       "       [4, 7]])"
      ]
     },
     "execution_count": 432,
     "metadata": {},
     "output_type": "execute_result"
    }
   ],
   "source": [
    "a2d.T"
   ]
  },
  {
   "cell_type": "code",
   "execution_count": 563,
   "id": "5bc13767",
   "metadata": {},
   "outputs": [
    {
     "data": {
      "text/plain": [
       "(1, 2, 4)"
      ]
     },
     "execution_count": 563,
     "metadata": {},
     "output_type": "execute_result"
    }
   ],
   "source": [
    "# Reshape\n",
    "a2d.reshape(1,2,4).shape"
   ]
  },
  {
   "cell_type": "markdown",
   "id": "f7095e15",
   "metadata": {},
   "source": [
    "# comparing Operators "
   ]
  },
  {
   "cell_type": "code",
   "execution_count": 565,
   "id": "b69e0759",
   "metadata": {},
   "outputs": [
    {
     "data": {
      "text/plain": [
       "array([[False, False, False, False],\n",
       "       [False, False, False, False]])"
      ]
     },
     "execution_count": 565,
     "metadata": {},
     "output_type": "execute_result"
    }
   ],
   "source": [
    "# Comparison will be element wise\n",
    "a1d > a2d"
   ]
  },
  {
   "cell_type": "code",
   "execution_count": 566,
   "id": "6a8a3a3b",
   "metadata": {},
   "outputs": [
    {
     "data": {
      "text/plain": [
       "array([[False, False, False, False],\n",
       "       [ True,  True,  True,  True]])"
      ]
     },
     "execution_count": 566,
     "metadata": {},
     "output_type": "execute_result"
    }
   ],
   "source": [
    "a1d < a2d"
   ]
  },
  {
   "cell_type": "code",
   "execution_count": 567,
   "id": "051ed54b",
   "metadata": {},
   "outputs": [
    {
     "data": {
      "text/plain": [
       "array([[ True,  True,  True,  True],\n",
       "       [ True,  True,  True,  True]])"
      ]
     },
     "execution_count": 567,
     "metadata": {},
     "output_type": "execute_result"
    }
   ],
   "source": [
    "a1d <= a2d"
   ]
  },
  {
   "cell_type": "code",
   "execution_count": 568,
   "id": "3575e683",
   "metadata": {},
   "outputs": [
    {
     "data": {
      "text/plain": [
       "array([[ True,  True,  True,  True],\n",
       "       [False, False, False, False]])"
      ]
     },
     "execution_count": 568,
     "metadata": {},
     "output_type": "execute_result"
    }
   ],
   "source": [
    "a1d >= a2d"
   ]
  },
  {
   "cell_type": "markdown",
   "id": "66ac7eae",
   "metadata": {},
   "source": [
    "# Sorting Arrays"
   ]
  },
  {
   "cell_type": "code",
   "execution_count": 582,
   "id": "d490b3b7",
   "metadata": {},
   "outputs": [
    {
     "data": {
      "text/plain": [
       "array([[5, 0, 3, 3, 7],\n",
       "       [9, 3, 5, 2, 4],\n",
       "       [7, 6, 8, 8, 1]])"
      ]
     },
     "execution_count": 582,
     "metadata": {},
     "output_type": "execute_result"
    }
   ],
   "source": [
    "np.random.seed(0)\n",
    "random_maric = np.random.randint(10,size=(3,5))\n",
    "random_maric"
   ]
  },
  {
   "cell_type": "code",
   "execution_count": 593,
   "id": "ed1e27aa",
   "metadata": {},
   "outputs": [
    {
     "data": {
      "text/plain": [
       "array([[0, 3, 3, 5, 7],\n",
       "       [2, 3, 4, 5, 9],\n",
       "       [1, 6, 7, 8, 8]])"
      ]
     },
     "execution_count": 593,
     "metadata": {},
     "output_type": "execute_result"
    }
   ],
   "source": [
    "np.sort(random_maric, axis = 1) #by default rows are sorted axis =1"
   ]
  },
  {
   "cell_type": "code",
   "execution_count": 594,
   "id": "d91df6fe",
   "metadata": {},
   "outputs": [
    {
     "data": {
      "text/plain": [
       "array([[5, 0, 3, 2, 1],\n",
       "       [7, 3, 5, 3, 4],\n",
       "       [9, 6, 8, 8, 7]])"
      ]
     },
     "execution_count": 594,
     "metadata": {},
     "output_type": "execute_result"
    }
   ],
   "source": [
    "## in numpy array col mesns asix = 0\n",
    "np.sort(random_maric,axis =0) "
   ]
  },
  {
   "cell_type": "code",
   "execution_count": 595,
   "id": "c9799fd7",
   "metadata": {},
   "outputs": [
    {
     "data": {
      "text/plain": [
       "array([[1, 2, 3, 0, 4],\n",
       "       [3, 1, 4, 2, 0],\n",
       "       [4, 1, 0, 2, 3]], dtype=int64)"
      ]
     },
     "execution_count": 595,
     "metadata": {},
     "output_type": "execute_result"
    }
   ],
   "source": [
    "## visualizong Indexes\n",
    "np.argsort(random_maric)"
   ]
  },
  {
   "cell_type": "code",
   "execution_count": 598,
   "id": "68371b42",
   "metadata": {},
   "outputs": [
    {
     "data": {
      "text/plain": [
       "array([1, 3, 4], dtype=int64)"
      ]
     },
     "execution_count": 598,
     "metadata": {},
     "output_type": "execute_result"
    }
   ],
   "source": [
    "np.argmin(random_maric,axis =1) "
   ]
  },
  {
   "cell_type": "code",
   "execution_count": 597,
   "id": "477a93d9",
   "metadata": {},
   "outputs": [
    {
     "data": {
      "text/plain": [
       "array([[5, 0, 3, 3, 7],\n",
       "       [9, 3, 5, 2, 4],\n",
       "       [7, 6, 8, 8, 1]])"
      ]
     },
     "execution_count": 597,
     "metadata": {},
     "output_type": "execute_result"
    }
   ],
   "source": [
    "random_maric"
   ]
  },
  {
   "cell_type": "code",
   "execution_count": 599,
   "id": "b72c3ac6",
   "metadata": {},
   "outputs": [
    {
     "data": {
      "text/plain": [
       "array([0, 0, 0, 1, 2], dtype=int64)"
      ]
     },
     "execution_count": 599,
     "metadata": {},
     "output_type": "execute_result"
    }
   ],
   "source": [
    "np.argmin(random_maric,axis =0) # through col "
   ]
  },
  {
   "cell_type": "code",
   "execution_count": 600,
   "id": "2be34882",
   "metadata": {},
   "outputs": [
    {
     "data": {
      "text/plain": [
       "array([[5, 0, 3, 3, 7],\n",
       "       [9, 3, 5, 2, 4],\n",
       "       [7, 6, 8, 8, 1]])"
      ]
     },
     "execution_count": 600,
     "metadata": {},
     "output_type": "execute_result"
    }
   ],
   "source": [
    "random_maric"
   ]
  },
  {
   "cell_type": "code",
   "execution_count": 601,
   "id": "bc30b84a",
   "metadata": {},
   "outputs": [
    {
     "data": {
      "text/plain": [
       "array([1, 2, 2, 2, 0], dtype=int64)"
      ]
     },
     "execution_count": 601,
     "metadata": {},
     "output_type": "execute_result"
    }
   ],
   "source": [
    "np.argmax(random_maric,axis =0) "
   ]
  },
  {
   "cell_type": "code",
   "execution_count": 602,
   "id": "28dc35dd",
   "metadata": {},
   "outputs": [
    {
     "data": {
      "text/plain": [
       "array([[5, 0, 3, 3, 7],\n",
       "       [9, 3, 5, 2, 4],\n",
       "       [7, 6, 8, 8, 1]])"
      ]
     },
     "execution_count": 602,
     "metadata": {},
     "output_type": "execute_result"
    }
   ],
   "source": [
    "random_maric"
   ]
  },
  {
   "cell_type": "markdown",
   "id": "23106049",
   "metadata": {},
   "source": [
    "# Reading Image"
   ]
  },
  {
   "cell_type": "code",
   "execution_count": 604,
   "id": "7cfac053",
   "metadata": {},
   "outputs": [],
   "source": [
    "from matplotlib.image import imread"
   ]
  },
  {
   "cell_type": "code",
   "execution_count": 605,
   "id": "0f77ce30",
   "metadata": {},
   "outputs": [],
   "source": [
    "img=imread('profile.jpg')"
   ]
  },
  {
   "cell_type": "code",
   "execution_count": 606,
   "id": "f8c8bf4b",
   "metadata": {},
   "outputs": [
    {
     "data": {
      "text/plain": [
       "array([[[158, 131, 166],\n",
       "        [157, 130, 165],\n",
       "        [157, 130, 165],\n",
       "        ...,\n",
       "        [ 90,  53,  45],\n",
       "        [ 85,  48,  40],\n",
       "        [ 85,  48,  40]],\n",
       "\n",
       "       [[157, 130, 165],\n",
       "        [157, 130, 165],\n",
       "        [156, 129, 164],\n",
       "        ...,\n",
       "        [ 90,  53,  45],\n",
       "        [ 86,  49,  41],\n",
       "        [ 86,  49,  41]],\n",
       "\n",
       "       [[157, 130, 165],\n",
       "        [157, 130, 165],\n",
       "        [156, 129, 164],\n",
       "        ...,\n",
       "        [ 90,  53,  45],\n",
       "        [ 87,  50,  42],\n",
       "        [ 87,  50,  42]],\n",
       "\n",
       "       ...,\n",
       "\n",
       "       [[ 43,  34,  35],\n",
       "        [ 43,  34,  35],\n",
       "        [ 42,  33,  34],\n",
       "        ...,\n",
       "        [ 83,  65,  63],\n",
       "        [ 80,  62,  60],\n",
       "        [ 80,  62,  60]],\n",
       "\n",
       "       [[ 43,  34,  35],\n",
       "        [ 43,  34,  35],\n",
       "        [ 42,  33,  34],\n",
       "        ...,\n",
       "        [ 85,  67,  65],\n",
       "        [ 79,  61,  59],\n",
       "        [ 79,  61,  59]],\n",
       "\n",
       "       [[ 43,  34,  35],\n",
       "        [ 43,  34,  35],\n",
       "        [ 42,  33,  34],\n",
       "        ...,\n",
       "        [ 85,  67,  65],\n",
       "        [ 79,  61,  59],\n",
       "        [ 79,  61,  59]]], dtype=uint8)"
      ]
     },
     "execution_count": 606,
     "metadata": {},
     "output_type": "execute_result"
    }
   ],
   "source": [
    "#showing pixel of image\n",
    "img"
   ]
  },
  {
   "cell_type": "code",
   "execution_count": 609,
   "id": "15207c32",
   "metadata": {},
   "outputs": [],
   "source": [
    "%matplotlib inline\n",
    "import matplotlib.pyplot as plt"
   ]
  },
  {
   "cell_type": "code",
   "execution_count": 611,
   "id": "ebe47832",
   "metadata": {},
   "outputs": [
    {
     "data": {
      "text/plain": [
       "<matplotlib.image.AxesImage at 0x1d737155490>"
      ]
     },
     "execution_count": 611,
     "metadata": {},
     "output_type": "execute_result"
    },
    {
     "data": {
      "image/png": "[encoded data removed]",
      "text/plain": [
       "<Figure size 640x480 with 1 Axes>"
      ]
     },
     "metadata": {},
     "output_type": "display_data"
    }
   ],
   "source": [
    "plt.figure()\n",
    "plt.imshow(img)"
   ]
  },
  {
   "cell_type": "code",
   "execution_count": 613,
   "id": "99f6b087",
   "metadata": {},
   "outputs": [
    {
     "data": {
      "text/plain": [
       "(5141, 3427, 3)"
      ]
     },
     "execution_count": 613,
     "metadata": {},
     "output_type": "execute_result"
    }
   ],
   "source": [
    "img.shape ## RGb value in the third dimension"
   ]
  },
  {
   "cell_type": "code",
   "execution_count": null,
   "id": "abc66ac4",
   "metadata": {},
   "outputs": [],
   "source": []
  }
 ],
 "metadata": {
  "kernelspec": {
   "display_name": "Python 3 (ipykernel)",
   "language": "python",
   "name": "python3"
  },
  "language_info": {
   "codemirror_mode": {
    "name": "ipython",
    "version": 3
   },
   "file_extension": ".py",
   "mimetype": "text/x-python",
   "name": "python",
   "nbconvert_exporter": "python",
   "pygments_lexer": "ipython3",
   "version": "3.9.12"
  }
 },
 "nbformat": 4,
 "nbformat_minor": 5
}
